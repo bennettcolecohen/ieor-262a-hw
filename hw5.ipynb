{
 "cells": [
  {
   "cell_type": "code",
   "execution_count": 49,
   "id": "3149e404",
   "metadata": {
    "code_folding": [
     0
    ]
   },
   "outputs": [],
   "source": [
    "# Dependencies \n",
    "from docplex.mp.model import Model \n",
    "import numpy as np\n",
    "import copy"
   ]
  },
  {
   "cell_type": "markdown",
   "id": "3f8acb15",
   "metadata": {},
   "source": [
    "### Exercise 5.6"
   ]
  },
  {
   "cell_type": "code",
   "execution_count": 117,
   "id": "62c881db",
   "metadata": {
    "code_folding": [
     0
    ]
   },
   "outputs": [],
   "source": [
    "def run_opt(limits, demands, prod_costs, purchase_costs, hold_costs): \n",
    "    \n",
    "    # Create model \n",
    "    model = Model()\n",
    "\n",
    "    # Create Decision vars\n",
    "    a, c, h = [0], [0], [0]\n",
    "    for i in range(1, 5): \n",
    "        a.append(model.continuous_var(name = f'a{i}', lb = 0, ub = limits[i]))\n",
    "        c.append(model.continuous_var(name = f'c{i}', lb = 0))\n",
    "        h.append(model.continuous_var(name = f'h{i}', lb = 0))\n",
    "\n",
    "    # Demand constraints\n",
    "    for i in range(1, 5): \n",
    "        model.add_constraint(a[i] + c[i] + h[i-1] >= demands[i])\n",
    "\n",
    "    # Inventory constraints \n",
    "    for i in range(1, 5): \n",
    "        model.add_constraint(a[i] + c[i] + h[i-1] - demands[i] == h[i])\n",
    "\n",
    "\n",
    "    # Define objective \n",
    "    objective = (np.array(prod_costs).T @ a) + (np.array(purchase_costs).T @ c) + (np.array(hold_costs).T @ h)\n",
    "    model.minimize(objective)\n",
    "\n",
    "    model.solve()\n",
    "    model.print_solution()\n",
    "    \n",
    "    return model"
   ]
  },
  {
   "cell_type": "markdown",
   "id": "4b962fdf",
   "metadata": {},
   "source": [
    "#### Part (B)"
   ]
  },
  {
   "cell_type": "code",
   "execution_count": 118,
   "id": "5acfad97",
   "metadata": {
    "code_folding": [
     0
    ]
   },
   "outputs": [
    {
     "name": "stdout",
     "output_type": "stream",
     "text": [
      "objective: 26250.000\n",
      "  a1=160.000\n",
      "  h1=10.000\n",
      "  a2=160.000\n",
      "  h2=10.000\n",
      "  a3=160.000\n",
      "  c3=55.000\n",
      "  a4=160.000\n",
      "  c4=20.000\n"
     ]
    }
   ],
   "source": [
    "# Run Part B\n",
    "params = {\n",
    "    'limits': [0, 160, 160, 160, 160],\n",
    "    'demands': [0, 150, 160, 225, 180],\n",
    "    'prod_costs': [0, 35, 35, 35, 35],\n",
    "    'purchase_costs': [0, 50, 50, 50, 50],\n",
    "    'hold_costs': [0, 5, 5, 5, 5]\n",
    "}\n",
    "model_b = run_opt(**params)"
   ]
  },
  {
   "cell_type": "markdown",
   "id": "fa7da10f",
   "metadata": {},
   "source": [
    "We shoud produce, buy, and hold the following: \n",
    "\n",
    "- January: Produce 160 and buy 0 (hold 10)\n",
    "- February: Produce 160 and buy 0 (hold 10)\n",
    "- March: Produce 160 and buy 55\n",
    "- April: Produce 160 and buy 20\n",
    "\n",
    "The optimal cost is \\$26,250"
   ]
  },
  {
   "cell_type": "markdown",
   "id": "a560005b",
   "metadata": {},
   "source": [
    "#### Part (C)"
   ]
  },
  {
   "cell_type": "markdown",
   "id": "dc463e91",
   "metadata": {},
   "source": [
    "Let's just search over the possible strategies. We see that we should schedule maintenance in January because it has the lowest cost of \\$26,295. There's really no need to do any sort of analysis of reduced costs because it's a small problem and not instructed :)"
   ]
  },
  {
   "cell_type": "code",
   "execution_count": 119,
   "id": "9e613463",
   "metadata": {
    "code_folding": [
     0
    ]
   },
   "outputs": [
    {
     "name": "stdout",
     "output_type": "stream",
     "text": [
      "Jan maintenance:\n",
      "objective: 26295.000\n",
      "  a1=151.000\n",
      "  h1=1.000\n",
      "  a2=160.000\n",
      "  h2=1.000\n",
      "  a3=160.000\n",
      "  c3=64.000\n",
      "  a4=160.000\n",
      "  c4=20.000\n",
      "Feb maintenance:\n",
      "objective: 26320.000\n",
      "  a1=160.000\n",
      "  h1=10.000\n",
      "  a2=153.000\n",
      "  h2=3.000\n",
      "  a3=160.000\n",
      "  c3=62.000\n",
      "  a4=160.000\n",
      "  c4=20.000\n",
      "Mar maintenance:\n",
      "objective: 26325.000\n",
      "  a1=160.000\n",
      "  h1=10.000\n",
      "  a2=160.000\n",
      "  h2=10.000\n",
      "  a3=155.000\n",
      "  c3=60.000\n",
      "  a4=160.000\n",
      "  c4=20.000\n"
     ]
    }
   ],
   "source": [
    "# Run Part C\n",
    "params_c = copy.copy(params)\n",
    "\n",
    "# Define new production limits for schedule\n",
    "jan_limits = [0, 151, 160, 160, 160]\n",
    "feb_limits = [0, 160, 153, 160, 160]\n",
    "mar_limits = [0, 160, 160, 155, 160]\n",
    "\n",
    "for limits, month in zip([jan_limits, feb_limits, mar_limits], ['Jan', 'Feb', 'Mar']): \n",
    "    \n",
    "    params_c.update({'limits': limits})\n",
    "\n",
    "    print(f'{month} maintenance:')\n",
    "    run_opt(**params_c)"
   ]
  },
  {
   "cell_type": "markdown",
   "id": "54b2f4fc",
   "metadata": {},
   "source": [
    "#### Part (D)"
   ]
  },
  {
   "cell_type": "markdown",
   "id": "d799ffb7",
   "metadata": {},
   "source": [
    "We could run a new optimization problem with a new set of decision variables, but that isn't necessary. We know that buying lamps from D will always be more expensive than producing it ourselves. In the first two months, we don't buy any from C and we produce up to the limit. In March, we purchase 55 lamps from company C, and in April, we purchase 20 lamps from company C. Buying from D is cheaper than buying from C so we want to buy as many as we can from D (50) instead of C in these two months. One approach is to buy 50 from units from D in March, and none in April.\n",
    "\n",
    "We save 5 dollars per lamp for each of the 50 lamps = 250 dollar total savings!"
   ]
  },
  {
   "cell_type": "markdown",
   "id": "507f1642",
   "metadata": {},
   "source": [
    "#### Part (E)"
   ]
  },
  {
   "cell_type": "markdown",
   "id": "e58cba23",
   "metadata": {},
   "source": [
    "This is effectively measuring the tradeoff between buying more units and holding them or just buying them as needed. We want to look at the reduced cost of buying in February to find the cuttoff value because this is the max it would have to be to make the decision var non-zero in the optimal simplex. Here, we see the reduced cost for buying from C in February is 5 dollars, so the discount must be at least this much to be attractive to us!"
   ]
  },
  {
   "cell_type": "code",
   "execution_count": 120,
   "id": "b52d6b56",
   "metadata": {},
   "outputs": [
    {
     "name": "stdout",
     "output_type": "stream",
     "text": [
      "c2 reduced cost: 5.0\n"
     ]
    }
   ],
   "source": [
    "print(f'c2 reduced cost: {model.get_var_by_name(\"c2\").reduced_cost}')"
   ]
  },
  {
   "cell_type": "markdown",
   "id": "5bb8bf5e",
   "metadata": {},
   "source": [
    "#### Part (F)"
   ]
  },
  {
   "cell_type": "markdown",
   "id": "3bc9e6d7",
   "metadata": {},
   "source": [
    "Beause we are checking how a change in a cost will affect optimality, we need to check the upper and lower bounds for maintaining optimality to see if we need to rerun a new problem. We see that the increase of 3 dollars does not change the basis, so the optimal cost will increase by 3 times the number of lamps we hold in February = 3 * 10 = 30. We verify this below by running a new model."
   ]
  },
  {
   "cell_type": "code",
   "execution_count": 121,
   "id": "e148708c",
   "metadata": {},
   "outputs": [
    {
     "name": "stdout",
     "output_type": "stream",
     "text": [
      "objective: 26280.000\n",
      "  a1=160.000\n",
      "  h1=10.000\n",
      "  a2=160.000\n",
      "  h2=10.000\n",
      "  a3=160.000\n",
      "  c3=55.000\n",
      "  a4=160.000\n",
      "  c4=20.000\n"
     ]
    },
    {
     "data": {
      "text/plain": [
       "docplex.mp.Model['docplex_model60']"
      ]
     },
     "execution_count": 121,
     "metadata": {},
     "output_type": "execute_result"
    }
   ],
   "source": [
    "# Run Part F\n",
    "params_f = copy.copy(params)\n",
    "params_f.update({'hold_costs': [0, 5, 8, 5, 5]})\n",
    "run_opt(**params_f)"
   ]
  },
  {
   "cell_type": "markdown",
   "id": "783b27dc",
   "metadata": {},
   "source": [
    "#### Part (G)"
   ]
  },
  {
   "cell_type": "markdown",
   "id": "c2da4130",
   "metadata": {},
   "source": [
    "We can see that with this new demand, our current solution isn't optimal anymore, so we should just rerun a new model. See below that the new solution yields an optimal objective at 23,875"
   ]
  },
  {
   "cell_type": "code",
   "execution_count": 122,
   "id": "0335cc6f",
   "metadata": {
    "code_folding": [
     0
    ]
   },
   "outputs": [
    {
     "name": "stdout",
     "output_type": "stream",
     "text": [
      "objective: 23875.000\n",
      "  a1=160.000\n",
      "  h1=70.000\n",
      "  a2=160.000\n",
      "  h2=70.000\n",
      "  a3=160.000\n",
      "  h3=5.000\n",
      "  a4=160.000\n",
      "  c4=15.000\n"
     ]
    },
    {
     "data": {
      "text/plain": [
       "docplex.mp.Model['docplex_model61']"
      ]
     },
     "execution_count": 122,
     "metadata": {},
     "output_type": "execute_result"
    }
   ],
   "source": [
    "# Run Part G \n",
    "params_g = copy.copy(params)\n",
    "params_g.update({'demands': [0, 90, 160, 225, 180]})\n",
    "run_opt(**params_g)"
   ]
  },
  {
   "cell_type": "markdown",
   "id": "e5e64d95",
   "metadata": {},
   "source": [
    "## Exercise 5.8"
   ]
  },
  {
   "cell_type": "code",
   "execution_count": 160,
   "id": "76b01777",
   "metadata": {
    "code_folding": [
     0
    ]
   },
   "outputs": [],
   "source": [
    "def run_opt58(clay, enamel, dry_room, kiln, p12, rhs, profits, dual_vars = True): \n",
    "    \n",
    "    # Initialize Model\n",
    "    model = Model()\n",
    "\n",
    "    # Create Decision vars\n",
    "    B = model.continuous_var(name = 'B', lb = 0)\n",
    "    C = model.continuous_var(name = 'C', lb = 0)\n",
    "    E = model.continuous_var(name = 'E', lb = 0)\n",
    "    P1 = model.continuous_var(name = 'P1', lb = 0)\n",
    "    P2 = model.continuous_var(name = 'P2', lb = 0)\n",
    "    \n",
    "    v = [E, C, P1, P2, B]\n",
    "    \n",
    "    # Define Constraints \n",
    "    clay_cts = model.add_constraint(np.array(clay).T @ v <= rhs[0])\n",
    "    enamel_cts = model.add_constraint(np.array(enamel).T @ v <= rhs[1])\n",
    "    dry_room_cts = model.add_constraint(np.array(dry_room).T @ v <= rhs[2])\n",
    "    kiln_cts = model.add_constraint(np.array(kiln).T @ v <= rhs[3])\n",
    "    p12_cts = model.add_constraint(np.array(p12).T @ [P1, P2] == rhs[4])\n",
    "    \n",
    "    # Define objective \n",
    "    model.maximize(np.array(profits).T @ v)\n",
    "    \n",
    "    model.solve()\n",
    "    model.print_solution()\n",
    "    \n",
    "    if dual_vars: \n",
    "        cts = [clay_cts, enamel_cts, dry_room_cts, kiln_cts, p12_cts]\n",
    "        print('Dual Values: ', model.dual_values(cts))\n",
    "        \n",
    "    return model"
   ]
  },
  {
   "cell_type": "markdown",
   "id": "2e6c31c3",
   "metadata": {},
   "source": [
    "#### Part (A) "
   ]
  },
  {
   "cell_type": "markdown",
   "id": "7f733ea6",
   "metadata": {},
   "source": [
    "The optimal solution is verified by Table 5.4, which is B = 5, C = 2 and all else = 0. The means we shoudl make 0 English sets, 0 Primrose sets, 2 Currier sets, and 5 Bluetail sets.The maximum profit we obtain from this is \\$649.00"
   ]
  },
  {
   "cell_type": "code",
   "execution_count": 162,
   "id": "2b1e16d2",
   "metadata": {},
   "outputs": [
    {
     "name": "stdout",
     "output_type": "stream",
     "text": [
      "objective: 649.000\n",
      "  B=5.000\n",
      "  C=2.000\n"
     ]
    }
   ],
   "source": [
    "params = {\n",
    "    'clay': [10, 15, 10, 10, 20], \n",
    "    'enamel': [1,2,2,1,1], \n",
    "    'dry_room': [3,1,6,6,3],\n",
    "    'kiln': [2,4,2,5,3], \n",
    "    'p12': [1,-1], \n",
    "    'rhs': [130, 13, 45, 23, 0], \n",
    "    'profits': [51, 102, 66, 66, 89]\n",
    "}\n",
    "model_a = run_opt58(**params, dual_vars = False)"
   ]
  },
  {
   "cell_type": "markdown",
   "id": "265f1de6",
   "metadata": {},
   "source": [
    "#### Part (B)"
   ]
  },
  {
   "cell_type": "markdown",
   "id": "cc6ed511",
   "metadata": {},
   "source": [
    "- Clay: For each pound of additional clay we have above our currrent limit of 130, we can increase our profit by \\$1.429.\n",
    "-  Enamel: For each pound of additional enamel we have above our currrent limit of 9, we can increase our profit by \\$0. That is to say it would have no impact on our optimal profit.\n",
    "-  Dry Room: For each hour of additional dry room use we could have above our currrent limit of 45, we can increase our profit by \\$0.That is to say it would have no impact on our optimal profit.\n",
    "- Kiln: For each hour of additional kiln use above our current limit of 23, we can increase our profit by \\$20.143. This has a huge impact because it means we can process more!\n",
    "- Primrose: For each unit of difference we allow between producing the types of Primrose (specicially make more using the first process), we can increase our profit by \\$11.429. \n",
    "\n",
    "We see these dual values match that of the tables!"
   ]
  },
  {
   "cell_type": "code",
   "execution_count": 171,
   "id": "ef502aee",
   "metadata": {},
   "outputs": [
    {
     "name": "stdout",
     "output_type": "stream",
     "text": [
      "1.4285714285714286\n",
      "0\n",
      "0\n",
      "20.142857142857142\n",
      "11.42857142857143\n"
     ]
    }
   ],
   "source": [
    "for i in range(5): \n",
    "    print(model.get_constraint_by_index(i).dual_value)"
   ]
  },
  {
   "cell_type": "markdown",
   "id": "07b49c9d",
   "metadata": {},
   "source": [
    "#### Part (C)"
   ]
  },
  {
   "cell_type": "markdown",
   "id": "4ae67e0a",
   "metadata": {},
   "source": [
    "Yes, for each pound we buy, we pay 1.1 but we expect to make 1.429. Now, 20 is within the allowable increase to remain optimal so these shadow prices hold. We should profit an extra $20(1.429-1.1) = \\$6.58$"
   ]
  },
  {
   "cell_type": "markdown",
   "id": "84660ae2",
   "metadata": {},
   "source": [
    "#### Part (D)"
   ]
  },
  {
   "cell_type": "markdown",
   "id": "b0bb1603",
   "metadata": {},
   "source": [
    "Note that the allowable decrease is 28 hours of dry room to remain optimal, so we can't directly find the decrease in profit using shadow prices as we did in (c). The shadow price is $0 which means it would not increase the profit under the current basis anyway, so we will rerun a new model. I didn't bother vectorizing this code because they already gave us the formulation."
   ]
  },
  {
   "cell_type": "code",
   "execution_count": 178,
   "id": "62c632cd",
   "metadata": {},
   "outputs": [
    {
     "name": "stdout",
     "output_type": "stream",
     "text": [
      "objective: 637.889\n",
      "  B=4.111\n",
      "  C=2.667\n"
     ]
    }
   ],
   "source": [
    "params_d = copy.copy(params)\n",
    "params_d.update({'rhs': [130, 13, 45 - 30, 23, 0]})\n",
    "model_d = run_opt58(**params_d, dual_vars = False)"
   ]
  },
  {
   "cell_type": "markdown",
   "id": "357dc2fc",
   "metadata": {},
   "source": [
    "Our profit decreases by 11.11 (make a wish). This comes from the fact that our dual value for the dry room constraint is $5.55, which is the amount of profit we lose by decreasing our allowed use by 1 hour. We decrease by 2 above the limit (30-28=2) so we lose the expected 5.5555*2 = 11.11 roughly. So our upper bound is just at 0 if we are within 28 allowed decrease, and 5.555 dollar decrease for each new decrease beyond 28 hours. "
   ]
  },
  {
   "cell_type": "markdown",
   "id": "4893d4d1",
   "metadata": {},
   "source": [
    "#### Part (E)"
   ]
  },
  {
   "cell_type": "markdown",
   "id": "ff70c67a",
   "metadata": {},
   "source": [
    "My current function doesn't allow for this, so I'll create a new one. We see below that at optimailty, the amount of P1 = 3.5, which is clearly positive....so yes."
   ]
  },
  {
   "cell_type": "code",
   "execution_count": 188,
   "id": "a2403f6e",
   "metadata": {
    "code_folding": [
     0
    ]
   },
   "outputs": [],
   "source": [
    "def run_opt_part_e(clay, enamel, dry_room, kiln, p12, rhs, profits, dual_vars = True): \n",
    "    \n",
    "    # Initialize Model\n",
    "    model = Model()\n",
    "\n",
    "    # Create Decision vars\n",
    "    B = model.continuous_var(name = 'B', lb = 0)\n",
    "    C = model.continuous_var(name = 'C', lb = 0)\n",
    "    E = model.continuous_var(name = 'E', lb = 0)\n",
    "    P1 = model.continuous_var(name = 'P1', lb = 0)\n",
    "    P2 = model.continuous_var(name = 'P2', lb = 0)\n",
    "    \n",
    "    v = [E, C, P1, P2, B]\n",
    "    \n",
    "    # Define Constraints \n",
    "    clay_cts = model.add_constraint(np.array(clay).T @ v <= rhs[0])\n",
    "    enamel_cts = model.add_constraint(np.array(enamel).T @ v <= rhs[1])\n",
    "    dry_room_cts = model.add_constraint(np.array(dry_room).T @ v <= rhs[2])\n",
    "    kiln_cts = model.add_constraint(np.array(kiln).T @ v <= rhs[3])\n",
    "    p12_cts = model.add_constraint(np.array(p12).T @ [P1, P2] >= rhs[4])\n",
    "    \n",
    "    # Define objective \n",
    "    model.maximize(np.array(profits).T @ v)\n",
    "    \n",
    "    model.solve()\n",
    "    model.print_solution()\n",
    "    \n",
    "    if dual_vars: \n",
    "        cts = [clay_cts, enamel_cts, dry_room_cts, kiln_cts, p12_cts]\n",
    "        print('Dual Values: ', model.dual_values(cts))\n",
    "        \n",
    "    return model"
   ]
  },
  {
   "cell_type": "code",
   "execution_count": 189,
   "id": "aa2dcbdb",
   "metadata": {},
   "outputs": [
    {
     "name": "stdout",
     "output_type": "stream",
     "text": [
      "objective: 689.000\n",
      "  B=4.000\n",
      "  C=1.000\n",
      "  P1=3.500\n"
     ]
    }
   ],
   "source": [
    "model_e = run_opt_part_e(**params, dual_vars = False)"
   ]
  }
 ],
 "metadata": {
  "kernelspec": {
   "display_name": "Python 3 (ipykernel)",
   "language": "python",
   "name": "python3"
  },
  "language_info": {
   "codemirror_mode": {
    "name": "ipython",
    "version": 3
   },
   "file_extension": ".py",
   "mimetype": "text/x-python",
   "name": "python",
   "nbconvert_exporter": "python",
   "pygments_lexer": "ipython3",
   "version": "3.9.12"
  }
 },
 "nbformat": 4,
 "nbformat_minor": 5
}
