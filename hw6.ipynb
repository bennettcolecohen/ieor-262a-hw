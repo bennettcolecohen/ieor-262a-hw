{
 "cells": [
  {
   "cell_type": "code",
   "execution_count": 1,
   "metadata": {
    "code_folding": [
     0
    ]
   },
   "outputs": [],
   "source": [
    "# Dependencies \n",
    "from docplex.mp.model import Model \n",
    "import numpy as np\n",
    "import pandas as pd"
   ]
  },
  {
   "cell_type": "markdown",
   "metadata": {},
   "source": [
    "### Exercise 10.4"
   ]
  },
  {
   "cell_type": "code",
   "execution_count": 25,
   "metadata": {},
   "outputs": [
    {
     "name": "stdout",
     "output_type": "stream",
     "text": [
      "objective: 87.000\n",
      "  x_a_1=2\n",
      "  x_b_1=1\n",
      "  x_d_1=1\n",
      "  x_e_1=5\n",
      "  x_e_2=4\n",
      "  x_e_3=2\n",
      "  y_a_1=1\n",
      "  y_a_2=3\n",
      "  y_b_1=1\n",
      "  y_b_2=4\n",
      "  y_c_2=3\n",
      "  y_d_1=3\n"
     ]
    }
   ],
   "source": [
    "# Create model \n",
    "model = Model()\n",
    "\n",
    "# Create decision vars \n",
    "parts, years = ['a', 'b', 'c', 'd', 'e'], [0, 1, 2, 3]\n",
    "\n",
    "x = {'a': model.integer_var_dict(years, name = 'x_a', lb = 0), \n",
    "     'b': model.integer_var_dict(years, name = 'x_b', lb = 0), \n",
    "     'c': model.integer_var_dict(years, name = 'x_c', lb = 0), \n",
    "     'd': model.integer_var_dict(years, name = 'x_d', lb = 0), \n",
    "     'e': model.integer_var_dict(years, name = 'x_e', lb = 0)}\n",
    "\n",
    "y = {'a': model.integer_var_dict(years, name = 'y_a', lb = 0), \n",
    "     'b': model.integer_var_dict(years, name = 'y_b', lb = 0), \n",
    "     'c': model.integer_var_dict(years, name = 'y_c', lb = 0), \n",
    "     'd': model.integer_var_dict(years, name = 'y_d', lb = 0), \n",
    "     'e': model.integer_var_dict(years, name = 'y_e', lb = 0)}\n",
    "\n",
    "# Demands \n",
    "demands = {'a': dict(zip(years, [0, 5, 2, 3])), \n",
    "           'b': dict(zip(years, [0, 4, 1, 4])), \n",
    "           'c': dict(zip(years, [0, 4, 1, 3])), \n",
    "           'd': dict(zip(years, [0, 2, 7, 0])), \n",
    "           'e': dict(zip(years, [0, 1, 0, 2]))}\n",
    "\n",
    "# Costs\n",
    "costs = {'a': dict(zip(years, [0, 0.5, 0.6, 0.7])), \n",
    "         'b': dict(zip(years, [0, 2.0, 2.2, 2.5])), \n",
    "         'c': dict(zip(years, [0, 5.0, 5.5, 6.0])), \n",
    "         'd': dict(zip(years, [0, 1.0, 1.1, 1.3])), \n",
    "         'e': dict(zip(years, [0, 7.8, 7.5, 7.0]))}\n",
    "\n",
    "\n",
    "# Demand constraints\n",
    "demand_cts = []\n",
    "for year in [1,2,3]:\n",
    "    for part in parts[:-1]:\n",
    "        new_const = x[part][year] + x['e'][year] + y[part][year - 1]  >= demands[part][year] + demands['e'][year]\n",
    "        demand_cts.append(new_const)\n",
    "    \n",
    "    \n",
    "# Balance constraints \n",
    "balance_cts = []\n",
    "for year in [1,2]: \n",
    "    for part in parts[:-1]:\n",
    "        new_const = x[part][year] + x['e'][year] + y[part][year - 1] - (demands[part][year] + demands['e'][year]) == y[part][year]\n",
    "        balance_cts.append(new_const)\n",
    "    \n",
    "# Add constraints to model\n",
    "model.add_constraints(demand_cts)\n",
    "model.add_constraints(balance_cts)\n",
    "    \n",
    "# Add constraints for modeling purposes\n",
    "model.add_constraints([x[part][0] == 0 for part in parts])   \n",
    "model.add_constraints([y[part][0] == 0 for part in parts])  \n",
    "\n",
    "# Objective \n",
    "obj = np.sum([costs[part][year] * x[part][year] for year in years[1:] for part in parts])\n",
    "model.minimize(obj)\n",
    "\n",
    "model.solve()\n",
    "model.print_solution()"
   ]
  },
  {
   "cell_type": "markdown",
   "metadata": {},
   "source": [
    "### Knapsack Problem"
   ]
  },
  {
   "cell_type": "code",
   "execution_count": 5,
   "metadata": {
    "code_folding": []
   },
   "outputs": [],
   "source": [
    "def knapsack(capacity: int, weights: list, profits: list, n_items: int): \n",
    "    \n",
    "    # Check base condition where we can't do anything\n",
    "    if (n_items == 0) or (capacity == 0):\n",
    "        return 0\n",
    "    \n",
    "    if weights[n_items - 1] <= capacity: \n",
    "        option_1 = profits[n_items - 1] + knapsack(capacity - weights[n_items - 1], weights, profits, n_items - 1)\n",
    "        option_2 = knapsack(capacity, weights, profits, n_items - 1)\n",
    "        return max(option_1, option_2)\n",
    "    \n",
    "    else: \n",
    "        return knapsack(capacity, weights, profits, n_items - 1)"
   ]
  },
  {
   "cell_type": "code",
   "execution_count": 6,
   "metadata": {
    "code_folding": []
   },
   "outputs": [
    {
     "name": "stdout",
     "output_type": "stream",
     "text": [
      "Maximum profit at 34\n"
     ]
    }
   ],
   "source": [
    "# Run \n",
    "profits = [20, 18, 10, 8, 4, 1]\n",
    "weights = [5, 7, 4, 3, 2, 1]\n",
    "capacity = 11\n",
    "n_items = len(profits)\n",
    "\n",
    "print(f'Maximum profit at {knapsack(11, [5, 7, 4, 3, 2, 1], [20, 18, 10, 8, 4, 1], 6)}')"
   ]
  },
  {
   "cell_type": "markdown",
   "metadata": {},
   "source": [
    "We see this comes from the x1, x3, x5 = 1 and x2, x4, x6 = 0."
   ]
  },
  {
   "cell_type": "code",
   "execution_count": null,
   "metadata": {},
   "outputs": [],
   "source": []
  }
 ],
 "metadata": {
  "kernelspec": {
   "display_name": "Python 3 (ipykernel)",
   "language": "python",
   "name": "python3"
  },
  "language_info": {
   "codemirror_mode": {
    "name": "ipython",
    "version": 3
   },
   "file_extension": ".py",
   "mimetype": "text/x-python",
   "name": "python",
   "nbconvert_exporter": "python",
   "pygments_lexer": "ipython3",
   "version": "3.9.12"
  }
 },
 "nbformat": 4,
 "nbformat_minor": 2
}
